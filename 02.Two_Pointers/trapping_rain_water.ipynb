{
 "cells": [
  {
   "cell_type": "markdown",
   "metadata": {},
   "source": [
    "# Trapping Rainwater"
   ]
  },
  {
   "cell_type": "markdown",
   "metadata": {},
   "source": [
    "[Problem](https://leetcode.com/problems/trapping-rain-water/description/)\n",
    "\n",
    "[Approach](https://www.youtube.com/watch?v=ZI2z5pq0TqA&t=1013s)"
   ]
  },
  {
   "cell_type": "code",
   "execution_count": 3,
   "metadata": {},
   "outputs": [],
   "source": [
    "\n",
    "def trap(height):\n",
    "    n=len(height)\n",
    "    maxLeft = [0]*n\n",
    "    maxL = 0\n",
    "    maxRight = [0]*n\n",
    "    maxR=0\n",
    "    for i in range(1, n):\n",
    "        if height[i-1]>maxL:\n",
    "            maxL=height[i-1]\n",
    "        maxLeft[i]=maxL\n",
    "    for i in range(n-2,-1,-1):\n",
    "        if height[i+1]>maxR:\n",
    "            maxR=height[i+1]\n",
    "        maxRight[i]=maxR\n",
    "    total=0\n",
    "    for i in range(n):\n",
    "        total+=max(min(maxLeft[i],maxRight[i])-height[i],0)\n",
    "    return total"
   ]
  },
  {
   "cell_type": "markdown",
   "metadata": {},
   "source": [
    "### Testcase"
   ]
  },
  {
   "cell_type": "code",
   "execution_count": 2,
   "metadata": {},
   "outputs": [
    {
     "name": "stdout",
     "output_type": "stream",
     "text": [
      "4\n"
     ]
    }
   ],
   "source": [
    "print(trap([5,5,0,4]))"
   ]
  }
 ],
 "metadata": {
  "kernelspec": {
   "display_name": "Python 3",
   "language": "python",
   "name": "python3"
  },
  "language_info": {
   "codemirror_mode": {
    "name": "ipython",
    "version": 3
   },
   "file_extension": ".py",
   "mimetype": "text/x-python",
   "name": "python",
   "nbconvert_exporter": "python",
   "pygments_lexer": "ipython3",
   "version": "3.11.0"
  }
 },
 "nbformat": 4,
 "nbformat_minor": 2
}
