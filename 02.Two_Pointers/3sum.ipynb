{
 "cells": [
  {
   "cell_type": "markdown",
   "metadata": {},
   "source": [
    "# 3 Sum\n",
    "\n",
    "[Problem](https://leetcode.com/problems/3sum/description/)"
   ]
  },
  {
   "cell_type": "markdown",
   "metadata": {
    "vscode": {
     "languageId": "plaintext"
    }
   },
   "source": [
    "## Approach\n",
    "\n",
    "- Sort the given array.\n",
    "- Iterate through the array with a for loop i=> (0 to n-3).\n",
    "- Run a while loop with tow pointers as l=i+1 and r=n-1 while l< r within the for loop.\n",
    "- Calculate the sum of the elements at i, l and r.\n",
    "- if sum > 0 update r (r-1).\n",
    "- if sum < 0 update l (l+1).\n",
    "- else add the elements at i,l,r in a result array.\n",
    "- Return result array"
   ]
  },
  {
   "cell_type": "code",
   "execution_count": 20,
   "metadata": {},
   "outputs": [],
   "source": [
    "def threeSum(nums):\n",
    "    result = []\n",
    "    n=len(nums)\n",
    "    for i in range(n - 2):\n",
    "        l,r=i+1,n-1\n",
    "        while l<r:\n",
    "            s=nums[i]+nums[l]+nums[r]\n",
    "            if s<0:\n",
    "                l+=1\n",
    "            elif s>0:\n",
    "                r-=1\n",
    "            else:\n",
    "                result.append((nums[i],nums[l],nums[r]))\n",
    "                break\n",
    "    return result"
   ]
  },
  {
   "cell_type": "markdown",
   "metadata": {},
   "source": [
    "## Testcase"
   ]
  },
  {
   "cell_type": "code",
   "execution_count": 19,
   "metadata": {},
   "outputs": [
    {
     "name": "stdout",
     "output_type": "stream",
     "text": [
      "[(0, 2, -2)]\n"
     ]
    }
   ],
   "source": [
    "print(threeSum([0,1,2,-1,-2]))"
   ]
  }
 ],
 "metadata": {
  "kernelspec": {
   "display_name": "Python 3",
   "language": "python",
   "name": "python3"
  },
  "language_info": {
   "codemirror_mode": {
    "name": "ipython",
    "version": 3
   },
   "file_extension": ".py",
   "mimetype": "text/x-python",
   "name": "python",
   "nbconvert_exporter": "python",
   "pygments_lexer": "ipython3",
   "version": "3.11.0"
  }
 },
 "nbformat": 4,
 "nbformat_minor": 2
}
