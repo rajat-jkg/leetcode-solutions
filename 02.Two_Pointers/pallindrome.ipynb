{
 "cells": [
  {
   "cell_type": "markdown",
   "metadata": {},
   "source": [
    "# Valid Pallindrome\n",
    "\n",
    "[Problem](https://leetcode.com/problems/valid-palindrome/)"
   ]
  },
  {
   "cell_type": "markdown",
   "metadata": {},
   "source": [
    "## Approach\n",
    "\n",
    "- Extract the valid charaters from the string and create a new string\n",
    "- Iterate through the string till the character in the center\n",
    "- Compare each n<sup>th</sup> character from the start with the n<sup>th</sup> character from the end. If pair is found unequal return false"
   ]
  },
  {
   "cell_type": "code",
   "execution_count": 3,
   "metadata": {},
   "outputs": [],
   "source": [
    "def isPallindrome(s):\n",
    "    s1=''\n",
    "    for x in s:\n",
    "        if x.isalnum():\n",
    "            s1+=x.lower()\n",
    "    n=len(s1)\n",
    "    for i in range(len(s1)//2):\n",
    "        if s1[i]!=s1[n-i-1]:\n",
    "            return False\n",
    "    return True"
   ]
  },
  {
   "cell_type": "markdown",
   "metadata": {},
   "source": [
    "### Testcases"
   ]
  },
  {
   "cell_type": "code",
   "execution_count": 4,
   "metadata": {},
   "outputs": [
    {
     "name": "stdout",
     "output_type": "stream",
     "text": [
      "True\n"
     ]
    }
   ],
   "source": [
    "print(isPallindrome('A man, a plan, a canal: Panama'))"
   ]
  },
  {
   "cell_type": "code",
   "execution_count": 5,
   "metadata": {},
   "outputs": [
    {
     "name": "stdout",
     "output_type": "stream",
     "text": [
      "False\n"
     ]
    }
   ],
   "source": [
    "print(isPallindrome('race a car'))"
   ]
  }
 ],
 "metadata": {
  "kernelspec": {
   "display_name": "Python 3",
   "language": "python",
   "name": "python3"
  },
  "language_info": {
   "codemirror_mode": {
    "name": "ipython",
    "version": 3
   },
   "file_extension": ".py",
   "mimetype": "text/x-python",
   "name": "python",
   "nbconvert_exporter": "python",
   "pygments_lexer": "ipython3",
   "version": "3.11.0"
  }
 },
 "nbformat": 4,
 "nbformat_minor": 2
}
