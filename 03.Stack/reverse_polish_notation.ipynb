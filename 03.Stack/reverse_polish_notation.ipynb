{
 "cells": [
  {
   "cell_type": "markdown",
   "metadata": {},
   "source": [
    "# Evaluate Revrse Polish notation\n",
    "\n",
    "[Problem](https://leetcode.com/problems/evaluate-reverse-polish-notation/description/)"
   ]
  },
  {
   "cell_type": "markdown",
   "metadata": {
    "vscode": {
     "languageId": "plaintext"
    }
   },
   "source": [
    "## Approach\n",
    "\n",
    "- Create a stack to track the numbers in the given array\n",
    "- Iterate through the tokens push them in the stack. If you encounter an operator, do the operation for the last to two items in the stack and push the result in the stack. "
   ]
  },
  {
   "cell_type": "code",
   "execution_count": 1,
   "metadata": {},
   "outputs": [],
   "source": [
    "def evalRPL(tokens):\n",
    "    stack = []\n",
    "    for token in tokens:\n",
    "        if token in '+-*/':\n",
    "            b = stack.pop()\n",
    "            a = stack.pop()\n",
    "            if token=='+':\n",
    "                stack.append(a+b)\n",
    "            elif token=='-':\n",
    "                stack.append(a-b)\n",
    "            elif token=='*':\n",
    "                stack.append(a*b)\n",
    "            else:\n",
    "                stack.append(a//b)\n",
    "        else:\n",
    "            stack.append(int(token))\n",
    "    return stack[0]"
   ]
  },
  {
   "cell_type": "markdown",
   "metadata": {},
   "source": [
    "### Testcases"
   ]
  },
  {
   "cell_type": "code",
   "execution_count": 3,
   "metadata": {},
   "outputs": [
    {
     "data": {
      "text/plain": [
       "1"
      ]
     },
     "execution_count": 3,
     "metadata": {},
     "output_type": "execute_result"
    }
   ],
   "source": [
    "evalRPL(['2','3','+','5','/'])"
   ]
  },
  {
   "cell_type": "code",
   "execution_count": 4,
   "metadata": {},
   "outputs": [
    {
     "data": {
      "text/plain": [
       "6"
      ]
     },
     "execution_count": 4,
     "metadata": {},
     "output_type": "execute_result"
    }
   ],
   "source": [
    "evalRPL([\"4\",\"13\",\"5\",\"/\",\"+\"])"
   ]
  }
 ],
 "metadata": {
  "kernelspec": {
   "display_name": "Python 3",
   "language": "python",
   "name": "python3"
  },
  "language_info": {
   "codemirror_mode": {
    "name": "ipython",
    "version": 3
   },
   "file_extension": ".py",
   "mimetype": "text/x-python",
   "name": "python",
   "nbconvert_exporter": "python",
   "pygments_lexer": "ipython3",
   "version": "3.11.0"
  }
 },
 "nbformat": 4,
 "nbformat_minor": 2
}
